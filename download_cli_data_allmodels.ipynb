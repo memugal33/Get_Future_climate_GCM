{
 "cells": [
  {
   "cell_type": "code",
   "execution_count": 1,
   "id": "2c37c30b",
   "metadata": {},
   "outputs": [],
   "source": [
    "import xarray as xr\n",
    "import os\n",
    "import numpy as np\n",
    "import pandas as pd\n",
    "import geopandas as gpd\n",
    "import regionmask\n",
    "import scipy\n",
    "import matplotlib.pyplot as plt\n",
    "import numpy as np\n",
    "import netCDF4"
   ]
  },
  {
   "cell_type": "code",
   "execution_count": 2,
   "id": "dd0331c5",
   "metadata": {},
   "outputs": [],
   "source": [
    "#### Functions necessary ########\n",
    "\n",
    "\n",
    "########get area of interest based on the shape file #########\n",
    "\n",
    "def get_aoi(shp, world=True):\n",
    "    \"\"\"Takes a geopandas object and converts it to a lat/ lon\n",
    "    extent \n",
    "\n",
    "    Parameters\n",
    "    -----------\n",
    "    shp : GeoPandas GeoDataFrame\n",
    "        A geodataframe containing the spatial boundary of interest\n",
    "    world : boolean\n",
    "        True if you want lat / long to represent sinusoidal (0-360 degrees)\n",
    "\n",
    "    Returns\n",
    "    -------\n",
    "    Dictionary of lat and lon spatial bounds\n",
    "    \"\"\"\n",
    "\n",
    "    lon_lat = {}\n",
    "    # Get lat min, max\n",
    "    aoi_lat = [float(shp.total_bounds[1]), float(shp.total_bounds[3])]\n",
    "    aoi_lon = [float(shp.total_bounds[0]), float(shp.total_bounds[2])]\n",
    "\n",
    "    if world:\n",
    "        aoi_lon[0] = aoi_lon[0] + 360\n",
    "        aoi_lon[1] = aoi_lon[1] + 360\n",
    "    lon_lat[\"lon\"] = aoi_lon\n",
    "    lon_lat[\"lat\"] = aoi_lat\n",
    "    return lon_lat\n",
    "\n",
    "############## Get maca file path ##############################\n",
    "\n",
    "def get_maca_cli(var, model, scenario, year_start,year_end, domain):\n",
    "    dir_path = 'http://thredds.northwestknowledge.net:8080/thredds/dodsC/'\n",
    "    \n",
    "    run_num = [1] * 20\n",
    "    run_num[4] = 6  # setting CCSM4 with run 6\n",
    "    \n",
    "    time = year_start+'_'+year_end\n",
    "    \n",
    "    file_name = ('agg_macav2metdata_' +\n",
    "             str(variable_name[var]) +\n",
    "             '_' +\n",
    "             str(model_name[model]) +\n",
    "             '_r' +\n",
    "             str(run_num[model])+'i1p1_' +\n",
    "             str(scenario_type[scenario]) +\n",
    "             '_' +\n",
    "             time + '_' +\n",
    "             domain + '_daily.nc')\n",
    "    full_file_path = dir_path + file_name\n",
    "\n",
    "    return full_file_path\n",
    "\n",
    "#################### Get the variable ###############################\n",
    "\n",
    "def get_fut_cli_var(full_path_name):\n",
    "    ### select the boundary from your watershed #####\n",
    "    cli_var_xr = xr.open_dataset(full_path_name)\n",
    "    \n",
    "    #### get the boundary of your watershed ####\n",
    "    #### need a get aoi function #######\n",
    "    \n",
    "    bounds = get_aoi(wsd)\n",
    "    \n",
    "    ##### Select the watershed upto your boundary ##########\n",
    "    myarr = cli_var_xr.sel(\n",
    "    #time=slice(start_date, end_date),\n",
    "    lon=slice(bounds[\"lon\"][0], bounds[\"lon\"][1]),\n",
    "    lat=slice(bounds[\"lat\"][0], bounds[\"lat\"][1]))\n",
    "    \n",
    "    ### create a mask for your study area #####\n",
    "    \n",
    "    mynew_mask = regionmask.mask_3D_geopandas(wsd,\n",
    "                                             myarr.lon,\n",
    "                                            myarr.lat)\n",
    "    my_fin_arr = myarr.where(mynew_mask)\n",
    "    \n",
    "    ### compute spatial summary in your area #######\n",
    "    spat_summ = my_fin_arr.mean([\"lat\",\"lon\"]).mean(\"region\").mean(\"crs\")\n",
    "    \n",
    "    \n",
    "    ###### convert the summary to dataframe ######\n",
    "    ###############################################\n",
    "    var_data = spat_summ.to_dataframe().reset_index()\n",
    "    \n",
    "    ##############################################\n",
    "    #var_data.to_csv(var_of_int+\".csv\")\n",
    "    return var_data"
   ]
  },
  {
   "cell_type": "code",
   "execution_count": 3,
   "id": "18da23d5",
   "metadata": {},
   "outputs": [],
   "source": [
    "import os, glob"
   ]
  },
  {
   "cell_type": "code",
   "execution_count": 4,
   "id": "2400d047",
   "metadata": {},
   "outputs": [],
   "source": [
    "main_dir = \"E:\\\\WORK\\\\Future_erosion_prj\"\n",
    "zones = [\"high\",\"intermediate\",\"low\"]"
   ]
  },
  {
   "cell_type": "code",
   "execution_count": 5,
   "id": "7d5cdb0b",
   "metadata": {},
   "outputs": [],
   "source": [
    "os.chdir(main_dir)"
   ]
  },
  {
   "cell_type": "code",
   "execution_count": 6,
   "id": "6fad757c",
   "metadata": {},
   "outputs": [],
   "source": [
    "# os.listdir(main_dir+\"\\\\\"+zones[1]+ \"\\\\data\")"
   ]
  },
  {
   "cell_type": "code",
   "execution_count": 17,
   "id": "c91e7969",
   "metadata": {},
   "outputs": [],
   "source": [
    "model_name = ['bcc-csm1-1',\n",
    "              'bcc-csm1-1-m',\n",
    "              'BNU-ESM',\n",
    "              'CanESM2',\n",
    "              'CCSM4',\n",
    "              'CNRM-CM5',\n",
    "              'CSIRO-Mk3-6-0',\n",
    "              'GFDL-ESM2G',\n",
    "              'GFDL-ESM2M',\n",
    "              'HadGEM2-CC365',\n",
    "              'HadGEM2-ES365',\n",
    "              'inmcm4',\n",
    "              'IPSL-CM5A-MR',\n",
    "              'IPSL-CM5A-LR',\n",
    "              'IPSL-CM5B-LR',\n",
    "              'MIROC5',\n",
    "              'MIROC-ESM',\n",
    "              'MIROC-ESM-CHEM',\n",
    "              'MRI-CGCM3',\n",
    "              'NorESM1-M']\n",
    "\n",
    "# variable_name = [\n",
    "# #                 'tasmax',\n",
    "# #                  'tasmin',\n",
    "# #                  'pr',\n",
    "#                  'rsds']\n",
    "\n",
    "scenario_type = ['historical', 'rcp45', 'rcp85']\n",
    "\n",
    "# Year start and ends (historical vs projected)\n",
    "year_start = ['1950', '2006', '2006']\n",
    "year_end = ['2005', '2099', '2099']\n",
    "\n",
    "\n"
   ]
  },
  {
   "cell_type": "code",
   "execution_count": 8,
   "id": "926f774b",
   "metadata": {},
   "outputs": [],
   "source": [
    "domain = \"CONUS\"\n",
    "strt_p = ['1950', '2006', '2006']\n",
    "end_p = ['2005', '2099', '2099']\n",
    "zn_shps = [\"sfcw.shp\",\"uicw.shp\",\"wlcw.shp\"]\n",
    "n_gen_list = list()\n",
    "error_indices = {}\n",
    "for z in range(0,3):\n",
    "    d1 = main_dir+\"\\\\\"+zones[z]\n",
    "    shp = zn_shps[z]\n",
    "    wsd = gpd.read_file(d1+\"\\\\data\\\\\"+shp)\n",
    "    wsd = wsd.to_crs(epsg=4326)\n",
    "    \n",
    "    if not os.path.isdir(d1):\n",
    "        os.makedirs(d1)\n",
    "    for model in range(0,20):\n",
    "        d2 = d1+\"\\\\\"+model_name[model]\n",
    "        if not os.path.isdir(d2):\n",
    "            os.makedirs(d2)\n",
    "        for scenario in range(0,3):\n",
    "            d3 = d2+\"\\\\\"+scenario_type[scenario]\n",
    "            if not os.path.isdir(d3):\n",
    "                os.makedirs(d3)\n",
    "            d4 = d3 + \"\\\\clidata\"\n",
    "            if not os.path.isdir(d4):\n",
    "                os.makedirs(d4)\n",
    "            for var in range(0,1):\n",
    "                year_start = strt_p[scenario]\n",
    "                year_end = end_p[scenario]\n",
    "                try:\n",
    "                    fullpath = get_maca_cli(var,model,scenario,year_start,year_end,domain)\n",
    "                except:\n",
    "                    print(\"couldnt obtain a full path of MACA for the given combination\")\n",
    "                \n",
    "                try:\n",
    "                    vr_data = get_fut_cli_var(fullpath)\n",
    "                    vr_data.to_csv(d4+\"\\\\\"+variable_name[var]+\".csv\")\n",
    "                except:\n",
    "#                     not_generated = {\"Model name\": model_name[model],\n",
    "#                                     \"Property\":variable_name[var],\n",
    "#                                     \"Scenario\":scenario_type[scenario],\n",
    "#                                      \"Zone\":zones[z]}\n",
    "                    error_indices[(model_name[model],variable_name[var],\n",
    "                                  scenario_type[scenario],zones[z])] = True\n",
    "#                     n_gen_list = n_gen_list.append(not_generated)\n",
    "                    print(\"couldnt excecute\",zones[z]+\"-\"+model_name[model]+\"-\"+scenario_type[scenario]+\"-\"+variable_name[var]+\n",
    "                         \"\\nFullpath generated: \"+fullpath)\n",
    "                    pass\n",
    "                "
   ]
  },
  {
   "cell_type": "code",
   "execution_count": 9,
   "id": "99642fbb",
   "metadata": {},
   "outputs": [],
   "source": [
    "\n",
    "# list(range(0,1))\n",
    "# # for i in "
   ]
  },
  {
   "cell_type": "code",
   "execution_count": 10,
   "id": "69b6f557",
   "metadata": {},
   "outputs": [],
   "source": [
    "# print(not_generated)"
   ]
  },
  {
   "cell_type": "code",
   "execution_count": 11,
   "id": "3bffe76f",
   "metadata": {},
   "outputs": [],
   "source": [
    "# n_gen_list.append(not_generated)"
   ]
  },
  {
   "cell_type": "code",
   "execution_count": 12,
   "id": "f58c31f1",
   "metadata": {},
   "outputs": [],
   "source": [
    "#   print(\"couldnt excecute\",zones[z]+\"-\"+model_name[model]+\"-\"+scenario_type[scenario]+\"-\"+var_name[var])"
   ]
  },
  {
   "cell_type": "code",
   "execution_count": 13,
   "id": "644c536b",
   "metadata": {},
   "outputs": [],
   "source": [
    "#    error_indices"
   ]
  },
  {
   "cell_type": "code",
   "execution_count": 16,
   "id": "6c3158c6",
   "metadata": {},
   "outputs": [],
   "source": [
    "mods_dir = \"C:\\\\Users\\\\mugalsamrat.dahal\\\\OneDrive - Washington State University (email.wsu.edu)\\\\Paper2\\\\Weppwatershed\"\n",
    "os.chdir(mods_dir)\n",
    "from copy_files import copyfiles"
   ]
  },
  {
   "cell_type": "code",
   "execution_count": 23,
   "id": "9c870762",
   "metadata": {},
   "outputs": [],
   "source": [
    "import logging\n",
    "logger = logging.getLogger('ftpuploader')"
   ]
  },
  {
   "cell_type": "code",
   "execution_count": 28,
   "id": "aee1e167",
   "metadata": {},
   "outputs": [],
   "source": [
    "#### copying files from previous directory \n",
    "error_indices = {}\n",
    "tillage = [\"intense\",\"reduced\",\"notill\"]\n",
    "copy_dirs = [\"springcreek_present\",\"upper_imbler_present\",\"winn_lake_canyon_present\"]\n",
    "\n",
    "copy_main_dir = \"F:\\\\WORK\\\\Project_2\\\\WEPPwatershed\\\\after_anisotropy\\\\New_batch_past_and_present_slope_length_200m\"\n",
    "\n",
    "\n",
    "for z in range(0,3):\n",
    "    for model in range(0,20):\n",
    "        for scenario in range(0,3):\n",
    "            for till in range(0,3):\n",
    "                outd = main_dir+\"\\\\\"+zones[z]+\"\\\\\"+model_name[model]+\"\\\\\"+scenario_type[scenario]+\"\\\\\"+tillage[till]\n",
    "    \n",
    "                if not os.path.isdir(outd):\n",
    "                    os.makedirs(outd)\n",
    "                \n",
    "                outd_d1 = outd+\"\\\\weppsetup\"\n",
    "                if not os.path.isdir(outd_d1):\n",
    "                    os.makedirs(outd_d1)\n",
    "                outd_d2 = outd_d1+\"\\\\wepp\"\n",
    "                \n",
    "                if not os.path.isdir(outd_d2):\n",
    "                    os.makedirs(outd_d2)\n",
    "                \n",
    "                outd_d3 = outd_d2+\"\\\\output\"\n",
    "                    \n",
    "                if not os.path.isdir(outd_d3):\n",
    "                    os.makedirs(outd_d3)\n",
    "                    \n",
    "                tmp_copy_dir = copy_main_dir+\"\\\\\"+copy_dirs[z]+\"_\"+tillage[till]+\"\\\\wepp\\\\runs\"\n",
    "                \n",
    "                try:\n",
    "                    copyfiles(tmp_copy_dir, outd_d3, \"run\", True)\n",
    "                \n",
    "                except BaseException as e:\n",
    "                    \n",
    "                    error_indices[(model_name[model],scenario_type[scenario],zones[z], tillage[till])] = True\n",
    "                    logger.error(\"Failed:\" + str(e))\n",
    "                \n",
    "                \n"
   ]
  },
  {
   "cell_type": "code",
   "execution_count": null,
   "id": "4653f34c",
   "metadata": {},
   "outputs": [],
   "source": [
    "#### Now need to make changes to climate file ##########\n",
    "##change various climate properties in loop\n",
    "#### Change the number of years in the cli file as well ##########\n"
   ]
  },
  {
   "cell_type": "code",
   "execution_count": 29,
   "id": "f4b65524",
   "metadata": {},
   "outputs": [
    {
     "data": {
      "text/plain": [
       "{}"
      ]
     },
     "execution_count": 29,
     "metadata": {},
     "output_type": "execute_result"
    }
   ],
   "source": [
    "error_indices"
   ]
  },
  {
   "cell_type": "code",
   "execution_count": null,
   "id": "040eb5b3",
   "metadata": {},
   "outputs": [],
   "source": [
    "#### Need to make changes to runfile of each hillslope based on the number of years i would like to run the model ########\n",
    "#### Make changes to runfile channel file #####\n",
    "\n"
   ]
  }
 ],
 "metadata": {
  "kernelspec": {
   "display_name": "Python 3 (ipykernel)",
   "language": "python",
   "name": "python3"
  },
  "language_info": {
   "codemirror_mode": {
    "name": "ipython",
    "version": 3
   },
   "file_extension": ".py",
   "mimetype": "text/x-python",
   "name": "python",
   "nbconvert_exporter": "python",
   "pygments_lexer": "ipython3",
   "version": "3.10.11"
  }
 },
 "nbformat": 4,
 "nbformat_minor": 5
}
